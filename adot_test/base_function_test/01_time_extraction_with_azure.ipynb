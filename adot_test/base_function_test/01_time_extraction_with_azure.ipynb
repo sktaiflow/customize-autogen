{
 "cells": [
  {
   "cell_type": "code",
   "execution_count": 13,
   "id": "3281817f-eef2-4d6d-be05-763282f1cf64",
   "metadata": {
    "execution": {
     "iopub.execute_input": "2023-11-06T09:02:49.388252Z",
     "iopub.status.busy": "2023-11-06T09:02:49.387825Z",
     "iopub.status.idle": "2023-11-06T09:02:49.391268Z",
     "shell.execute_reply": "2023-11-06T09:02:49.390641Z",
     "shell.execute_reply.started": "2023-11-06T09:02:49.388227Z"
    },
    "tags": []
   },
   "outputs": [],
   "source": [
    "import requests\n",
    "import datetime"
   ]
  },
  {
   "cell_type": "code",
   "execution_count": 7,
   "id": "81889b53-dcfc-49b4-b15a-8932acfa5aca",
   "metadata": {
    "execution": {
     "iopub.execute_input": "2023-11-06T08:59:29.568290Z",
     "iopub.status.busy": "2023-11-06T08:59:29.567872Z",
     "iopub.status.idle": "2023-11-06T08:59:29.571540Z",
     "shell.execute_reply": "2023-11-06T08:59:29.570917Z",
     "shell.execute_reply.started": "2023-11-06T08:59:29.568264Z"
    },
    "tags": []
   },
   "outputs": [],
   "source": [
    "ENV = 'stg'"
   ]
  },
  {
   "cell_type": "code",
   "execution_count": 8,
   "id": "b96eadd3-3c31-44e2-a92a-441be45b4635",
   "metadata": {
    "execution": {
     "iopub.execute_input": "2023-11-06T08:59:29.736146Z",
     "iopub.status.busy": "2023-11-06T08:59:29.735458Z",
     "iopub.status.idle": "2023-11-06T08:59:29.738939Z",
     "shell.execute_reply": "2023-11-06T08:59:29.738318Z",
     "shell.execute_reply.started": "2023-11-06T08:59:29.736119Z"
    },
    "tags": []
   },
   "outputs": [],
   "source": [
    "PROMPT_CONTROL_MAP = {\n",
    "    'stg' : \"172.18.243.211\",\n",
    "    'prd' : \"172.27.10.166\",\n",
    "}"
   ]
  },
  {
   "cell_type": "code",
   "execution_count": 15,
   "id": "94770822-5214-4d28-aebb-a16209ad21c1",
   "metadata": {
    "execution": {
     "iopub.execute_input": "2023-11-06T09:03:03.909116Z",
     "iopub.status.busy": "2023-11-06T09:03:03.908672Z",
     "iopub.status.idle": "2023-11-06T09:03:03.912247Z",
     "shell.execute_reply": "2023-11-06T09:03:03.911631Z",
     "shell.execute_reply.started": "2023-11-06T09:03:03.909088Z"
    },
    "tags": []
   },
   "outputs": [],
   "source": [
    "PROMPT_ID_MAP = {\n",
    "    'stg' : '123954',\n",
    "    'prd' : None,\n",
    "}"
   ]
  },
  {
   "cell_type": "code",
   "execution_count": 16,
   "id": "eb366469-119f-4db0-9af8-bfd32cfeed1c",
   "metadata": {
    "execution": {
     "iopub.execute_input": "2023-11-06T09:03:04.085126Z",
     "iopub.status.busy": "2023-11-06T09:03:04.084408Z",
     "iopub.status.idle": "2023-11-06T09:03:04.092701Z",
     "shell.execute_reply": "2023-11-06T09:03:04.092113Z",
     "shell.execute_reply.started": "2023-11-06T09:03:04.085099Z"
    },
    "tags": []
   },
   "outputs": [],
   "source": [
    "## extract_date_time function 프롬프트\n",
    "time_prompt_template = '''Current Time:: 2023-05-10 12:30:01 수요일\n",
    "Expression:: 이번주 중에 뭐 할꺼 있지?\n",
    "Time Range:: {\"expression\": \"이번주\", \"start_time\": \"2023-05-08 00:00:00 월요일\", \"end_time\": \"2023-05-14 23:59:59 일요일\"}\n",
    "\n",
    "Current Time:: 2023-03-23 02:15:42 목요일\n",
    "Expression:: 어제부터 오늘까지 해야 할꺼 있었는데...\n",
    "Time Range:: {\"expression\": \"어제부터 오늘까지\", \"start_time\": \"2023-03-22 00:00:00 수요일\", \"end_time\": \"2023-03-23 02:15:42 목요일\"}\n",
    "\n",
    "Current Time:: 2023-04-01 05:56:41 토요일\n",
    "Expression:: 이런건 아무도 모르지~\n",
    "Time Range:: {\"expression\": \"none\"}\n",
    "\n",
    "Current Time:: 2023-12-12 05:07:25 화요일\n",
    "Expression:: 이번주는 해야 할꺼 있었는데...\n",
    "Time Range:: {\"expression\": \"이번주는\", \"start_time\": \"2023-12-11 00:00:00 월요일\", \"end_time\": \"2023-12-17 23:59:59 일요일\"}\n",
    "\n",
    "Current Time:: 2023-09-25 17:42:38 월요일\n",
    "Expression:: 술한잔 하려고 하는데 밤에 한 7시쯤 어때?\n",
    "Time Range:: {\"expression\": \"밤에 한 7시쯤\", \"start_time\": \"2023-09-25 19:00:00 월요일\", \"end_time\": \"2023-09-25 19:59:59 월요일\"}\n",
    "\n",
    "Current Time:: 2023-07-11 12:32:27 화요일\n",
    "Expression:: 나 한... 저번주 부터 사귀기로 했어~\n",
    "Time Range:: {\"expression\": \"저번주 부터\", \"start_time\": \"2023-07-03 00:00:00 월요일\", \"end_time\": \"2023-07-11 12:32:27 화요일\"}\n",
    "\n",
    "Current Time:: 2023-01-15 21:51:17 화요일\n",
    "Expression:: 차라리 이럴꺼면 휴가를 내고 해외에 한번 가봐\n",
    "Time Range:: {\"expression\": \"none\"}\n",
    "\n",
    "Current Time:: 2023-02-11 07:30:12 토요일\n",
    "Expression:: 너무나도 슬프게도 화요일이 우리가 마지막으로 볼 수 있는 시간이네요 ㅠㅜ\n",
    "Time Range:: {\"expression\": \"화요일\", \"start_time\": \"2023-07-14 00:00:00 화요일\", \"end_time\": \"2023-07-14 23:59:59 화요일\"}\n",
    "\n",
    "Current Time:: 2023-12-10 07:30:12 일요일\n",
    "Expression:: 저번해부터 쭉 이 일을 마무리하느라 고생하셨습니다.\n",
    "Time Range:: {\"expression\": \"저번해부터 쭉\", \"start_time\": \"2022-01-01 00:00:00 토요일\", \"end_time\": \"2023-12-10 07:30:12 일요일\"}\n",
    "\n",
    "Current Time:: 2023-06-17 07:30:12 토요일\n",
    "Expression:: 오전에 시작한거 현 시점까지 마무리해야대!\n",
    "Time Range:: {\"expression\": \"오전에 시작한거 현 시점까지\", \"start_time\": \"2023-06-17 00:00:00 토요일\", \"end_time\": \"2023-06-17 07:30:12 토요일\"}\n",
    "\n",
    "Current Time:: 2023-09-06 03:44:11 수요일\n",
    "Expression:: 이따 6시 40분에 택시 예약 잡아줘.\n",
    "Time Range:: {\"expression\": \"6시 40분에\", \"start_time\": \"2023-09-06 06:40:00 수요일\", \"end_time\": \"2023-09-06 06:49:59 수요일\"}\n",
    "\n",
    "Current Time:: 2024-01-01 00:07:19 월요일\n",
    "Expression:: 우리 모두 올해에는 행복하세요~\n",
    "Time Range:: {\"expression\": \"올해에는\", \"start_time\": \"2024-01-01 00:00:00 월요일\", \"end_time\": \"2024-12-31 23:59:59 화요일\"}\n",
    "\n",
    "Current Time:: 2021-06-21 05:04:58 월요일\n",
    "Expression:: 앞으로 3시간 뒤 까지는 비가 올 예정이다.\n",
    "Time Range:: {\"expression\": \"앞으로 3시간 뒤 까지는\", \"start_time\": \"2021-06-21 05:04:58 월요일\", \"end_time\": \"2021-06-21 08:04:58 월요일\"}\n",
    "\n",
    "Current Time:: 2023-07-09 23:32:51 일요일\n",
    "Expression:: 너 마감일이 이틀 뒤까지인거 알고 있는거지? \n",
    "Time Range:: {\"expression\": \"이틀 뒤까지인거\", \"start_time\": \"2023-07-09 23:32:51 일요일\", \"end_time\": \"2023-07-11 23:59:59 화요일\"}\n",
    "\n",
    "Current Time:: 2023-10-09 04:43:33 월요일\n",
    "Expression:: 우리 다음달 말쯤에는 같이 수영이나 할래?. \n",
    "Time Range:: {\"expression\": \"다음달 말쯤에는\", \"start_time\": \"2023-11-30 00:00:00 목요일\", \"end_time\": \"2023-11-30 23:59:59 목요일\"}\n",
    "\n",
    "Current Time:: 2023-02-28 20:26:02 화요일\n",
    "Expression:: 우리 주말에는 꼭 만나서 이야기좀 하자. \n",
    "Time Range:: {\"expression\": \"주말에는\", \"start_time\": \"2023-03-04 00:00:00 토요일\", \"end_time\": \"2023-03-05 23:59:59 일요일\"}\n",
    "\n",
    "Current Time:: 2023-05-04 22:32:18 목요일\n",
    "Expression:: 이거에 대해서 세시쯤에 다시 이야기 할꺼지? \n",
    "Time Range:: {\"expression\": \"세시쯤에\", \"start_time\": \"2023-05-05 03:00:00 금요일\", \"end_time\": \"2023-05-05 03:59:59 금요일\"}\n",
    "\n",
    "Current Time:: 2023-04-18 09:11:27 화요일\n",
    "Expression:: 내일은 12시에 출근하는데, 출근 전에 볼만한 영화가 있을까?\n",
    "Time Range:: {\"expression\": \"내일은 12시에 출근하는데, 출근 전\", \"start_time\": \"2023-04-19 00:00:00 수요일\", \"end_time\": \"2023-04-19 12:00:00 수요일\"}\n",
    "'''\n",
    "\n",
    "## extract_date_time function 프롬프트\n",
    "time_input_prompt_template = f'''\n",
    "Current Time:: {{current_sent}}\n",
    "Expression:: {{query}}\n",
    "Time Range:: '''\n",
    "\n",
    "\n",
    "def extract_date_time(query:str):\n",
    "    current_dt = datetime.datetime.today()\n",
    "    days_in_korean = [\"월요일\", \"화요일\", \"수요일\", \"목요일\", \"금요일\", \"토요일\", \"일요일\"]\n",
    "\n",
    "    current_sent = current_dt.strftime('%Y-%m-%d %H:%M:%S') + f' {days_in_korean[current_dt.weekday()]}'\n",
    "    content = time_prompt_template+time_input_prompt_template.format(current_sent=current_sent, query=query)\n",
    "    \n",
    "    headers = {\n",
    "    \"Accept\": \"application/json\",\n",
    "    }\n",
    "\n",
    "    data = {\n",
    "        \"promptId\": PROMPT_ID_MAP[ENV],\n",
    "        \"requestTexts\": [\n",
    "            {\n",
    "                \"key\": \"content\",\n",
    "                \"value\": content,\n",
    "            },\n",
    "        ],\n",
    "        'role':'user',\n",
    "    }\n",
    "\n",
    "    resp = requests.post(\n",
    "        f\"http://{PROMPT_CONTROL_MAP[ENV]}:13100/api/v1/completions\",\n",
    "        headers=headers,\n",
    "        json=data,\n",
    "    )\n",
    "    resp = resp.json()\n",
    "    \n",
    "    return resp"
   ]
  },
  {
   "cell_type": "code",
   "execution_count": 19,
   "id": "54ea259a-8805-48f1-a7dc-5becb63c6534",
   "metadata": {
    "execution": {
     "iopub.execute_input": "2023-11-06T09:03:52.761108Z",
     "iopub.status.busy": "2023-11-06T09:03:52.760680Z",
     "iopub.status.idle": "2023-11-06T09:03:52.764145Z",
     "shell.execute_reply": "2023-11-06T09:03:52.763532Z",
     "shell.execute_reply.started": "2023-11-06T09:03:52.761081Z"
    },
    "tags": []
   },
   "outputs": [],
   "source": [
    "text = \"앞으로 3시간 뒤에는 뭐 할까요?\""
   ]
  },
  {
   "cell_type": "code",
   "execution_count": 20,
   "id": "cae52c2b-5202-49a6-b91d-02d0e87dca57",
   "metadata": {
    "execution": {
     "iopub.execute_input": "2023-11-06T09:03:52.903155Z",
     "iopub.status.busy": "2023-11-06T09:03:52.902774Z",
     "iopub.status.idle": "2023-11-06T09:03:55.836653Z",
     "shell.execute_reply": "2023-11-06T09:03:55.836002Z",
     "shell.execute_reply.started": "2023-11-06T09:03:52.903128Z"
    },
    "tags": []
   },
   "outputs": [
    {
     "data": {
      "text/plain": [
       "{'state': 200,\n",
       " 'res': {'transactionId': '202311061846de2ac11ae044cda47748987706cc7c',\n",
       "  'model': 'gpt-3.5-turbo',\n",
       "  'usage': {'promptTokens': 1882, 'completionTokens': 61, 'totalTokens': 1943},\n",
       "  'content': '{\"expression\": \"앞으로 3시간 뒤에는\", \"start_time\": \"2023-11-06 21:03:52 월요일\", \"end_time\": \"2023-11-06 23:59:59 월요일\"}'}}"
      ]
     },
     "execution_count": 20,
     "metadata": {},
     "output_type": "execute_result"
    }
   ],
   "source": [
    "extract_date_time(text)"
   ]
  },
  {
   "cell_type": "code",
   "execution_count": null,
   "id": "07240ee9-136f-4758-a4aa-2e1061bb4567",
   "metadata": {},
   "outputs": [],
   "source": []
  },
  {
   "cell_type": "code",
   "execution_count": null,
   "id": "1cb7b84e-bea7-4089-a03e-1102168618cc",
   "metadata": {},
   "outputs": [],
   "source": []
  },
  {
   "cell_type": "code",
   "execution_count": null,
   "id": "c926fe94-b609-4e23-9285-bc03bbaa9f55",
   "metadata": {},
   "outputs": [],
   "source": []
  },
  {
   "cell_type": "code",
   "execution_count": null,
   "id": "67b13e3b-d99a-43b7-97bd-595a32a61c16",
   "metadata": {},
   "outputs": [],
   "source": []
  },
  {
   "cell_type": "code",
   "execution_count": null,
   "id": "5a09b087-a1a5-432d-b4fe-1c5f8fd67c91",
   "metadata": {},
   "outputs": [],
   "source": []
  }
 ],
 "metadata": {
  "kernelspec": {
   "display_name": "Python 3 (ipykernel)",
   "language": "python",
   "name": "python3"
  },
  "language_info": {
   "codemirror_mode": {
    "name": "ipython",
    "version": 3
   },
   "file_extension": ".py",
   "mimetype": "text/x-python",
   "name": "python",
   "nbconvert_exporter": "python",
   "pygments_lexer": "ipython3",
   "version": "3.8.12"
  }
 },
 "nbformat": 4,
 "nbformat_minor": 5
}
