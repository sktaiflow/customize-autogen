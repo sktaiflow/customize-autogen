{
 "cells": [
  {
   "cell_type": "code",
   "execution_count": 1,
   "id": "3281817f-eef2-4d6d-be05-763282f1cf64",
   "metadata": {
    "execution": {
     "iopub.execute_input": "2023-11-06T09:44:10.550193Z",
     "iopub.status.busy": "2023-11-06T09:44:10.549861Z",
     "iopub.status.idle": "2023-11-06T09:44:10.597592Z",
     "shell.execute_reply": "2023-11-06T09:44:10.597081Z",
     "shell.execute_reply.started": "2023-11-06T09:44:10.550170Z"
    },
    "tags": []
   },
   "outputs": [],
   "source": [
    "import requests\n",
    "import datetime"
   ]
  },
  {
   "cell_type": "code",
   "execution_count": 2,
   "id": "81889b53-dcfc-49b4-b15a-8932acfa5aca",
   "metadata": {
    "execution": {
     "iopub.execute_input": "2023-11-06T09:44:10.757527Z",
     "iopub.status.busy": "2023-11-06T09:44:10.757209Z",
     "iopub.status.idle": "2023-11-06T09:44:10.760159Z",
     "shell.execute_reply": "2023-11-06T09:44:10.759657Z",
     "shell.execute_reply.started": "2023-11-06T09:44:10.757504Z"
    },
    "tags": []
   },
   "outputs": [],
   "source": [
    "ENV = 'stg'"
   ]
  },
  {
   "cell_type": "code",
   "execution_count": 3,
   "id": "b96eadd3-3c31-44e2-a92a-441be45b4635",
   "metadata": {
    "execution": {
     "iopub.execute_input": "2023-11-06T09:44:10.948495Z",
     "iopub.status.busy": "2023-11-06T09:44:10.948166Z",
     "iopub.status.idle": "2023-11-06T09:44:10.951367Z",
     "shell.execute_reply": "2023-11-06T09:44:10.950826Z",
     "shell.execute_reply.started": "2023-11-06T09:44:10.948472Z"
    },
    "tags": []
   },
   "outputs": [],
   "source": [
    "PROMPT_CONTROL_MAP = {\n",
    "    'stg' : \"172.18.243.211\",\n",
    "    'prd' : \"172.27.10.166\",\n",
    "}"
   ]
  },
  {
   "cell_type": "code",
   "execution_count": 4,
   "id": "94770822-5214-4d28-aebb-a16209ad21c1",
   "metadata": {
    "execution": {
     "iopub.execute_input": "2023-11-06T09:44:11.347418Z",
     "iopub.status.busy": "2023-11-06T09:44:11.347065Z",
     "iopub.status.idle": "2023-11-06T09:44:11.350205Z",
     "shell.execute_reply": "2023-11-06T09:44:11.349684Z",
     "shell.execute_reply.started": "2023-11-06T09:44:11.347395Z"
    },
    "tags": []
   },
   "outputs": [],
   "source": [
    "PROMPT_ID_MAP = {\n",
    "    'stg' : '123954',\n",
    "    'prd' : None,\n",
    "}"
   ]
  },
  {
   "cell_type": "code",
   "execution_count": 46,
   "id": "eb366469-119f-4db0-9af8-bfd32cfeed1c",
   "metadata": {
    "execution": {
     "iopub.execute_input": "2023-11-06T10:03:45.823358Z",
     "iopub.status.busy": "2023-11-06T10:03:45.822982Z",
     "iopub.status.idle": "2023-11-06T10:03:45.831600Z",
     "shell.execute_reply": "2023-11-06T10:03:45.831055Z",
     "shell.execute_reply.started": "2023-11-06T10:03:45.823332Z"
    },
    "tags": []
   },
   "outputs": [],
   "source": [
    "## anaylze_requested_movie_meta function 프롬프트\n",
    "get_movie_information_system_template = \"\"\"You are a smart assistant for 에이닷 application user. \n",
    "Your main goals are:\n",
    "- You must use 'keyword_analysis' function to analyze user intent from history of conversations with user.\n",
    "- You must extract required arguments for function calling from history of conversations with user.\n",
    "- Required arguments must included.\n",
    "- When extracting arguments, you must only refer to the user's contents. Never make assumptions.\n",
    "- If you are unable to extract some arguments, you should use function without them.\n",
    "- Never engage in a general conversation with the user. Use function calling\"\"\"\n",
    "\n",
    "functions = [\n",
    "    {\n",
    "        'name': 'keyword_analysis',\n",
    "        'description': \"\"\"Useful to analyze keywords related to the movie from history of conversations with user.\"\"\",\n",
    "        \"parameters\": {\n",
    "            \"type\": \"object\",\n",
    "            \"properties\": {\n",
    "                \"has_specific_keyword\": {\n",
    "                    \"type\": \"string\",\n",
    "                    \"enum\": [\"yes\", \"no\"],\n",
    "                    \"description\": \"Whether the user's question contains specific search keywords for movies such as actor, genre, content, characteristic, etc.. Common keywords such as '재미있는', '유명한', etc. are not specific keywords.\"\n",
    "                },\n",
    "                \"actor\": {\n",
    "                    \"type\": \"array\",\n",
    "                    \"description\": \"The actor who appeared in the movie\",\n",
    "                    \"items\": {\n",
    "                        \"type\": \"string\",\n",
    "                    },\n",
    "                },\n",
    "                \"title\": {\n",
    "                    \"type\": \"string\",\n",
    "                    \"description\": \"The title of movie\",\n",
    "                },\n",
    "                \"genre\": {\n",
    "                    \"type\": \"string\",\n",
    "                    \"description\": \"The genre of movie\",\n",
    "                    \"items\": {\n",
    "                        \"type\": \"string\",\n",
    "                    },\n",
    "                },\n",
    "                \"nation\": {\n",
    "                    \"type\": \"string\",\n",
    "                    \"description\": \"The country of movie\",\n",
    "                },\n",
    "                \"content\": {\n",
    "                    \"type\": \"string\",\n",
    "                    \"description\": \"The content of movie\",\n",
    "                },\n",
    "                \"order\": {\n",
    "                    \"type\": \"string\",\n",
    "                    \"description\": \"Sorting order by movie rating\",\n",
    "                    \"enum\": ['descending', 'ascending'],\n",
    "                },\n",
    "            },\n",
    "            'required': ['has_specific_keyword'],\n",
    "        },\n",
    "    }\n",
    "]\n",
    "def anaylze_requested_movie_meta(question:str):\n",
    "    \n",
    "    messages = [\n",
    "        {\"role\": \"system\", \"content\": get_movie_information_system_template},\n",
    "        {\"role\": \"user\", \"content\": question},\n",
    "    ]\n",
    "    \n",
    "    headers = {\n",
    "        \"Accept\": \"application/json\",\n",
    "    }\n",
    "    \n",
    "    history = messages[:-1]\n",
    "    message = messages[-1]\n",
    "\n",
    "    data = {\n",
    "        \"promptId\": PROMPT_ID_MAP[ENV],\n",
    "        \"requestTexts\": [\n",
    "            {\n",
    "                \"key\": \"content\",\n",
    "                \"value\": message['content'],\n",
    "            },\n",
    "        ],\n",
    "        'role': message['role'],\n",
    "        'history' : history,\n",
    "        \"functionCall\" : {\n",
    "            \"control\": \"auto\",\n",
    "            \"functions\" : functions,\n",
    "            \"name\" : \"keyword_analysis\",\n",
    "        }\n",
    "    }\n",
    "\n",
    "    resp = requests.post(\n",
    "        f\"http://{PROMPT_CONTROL_MAP[ENV]}:13100/api/v1/completions\",\n",
    "        headers=headers,\n",
    "        json=data,\n",
    "    )\n",
    "    resp = resp.json()\n",
    "    \n",
    "    return resp"
   ]
  },
  {
   "cell_type": "code",
   "execution_count": 47,
   "id": "54ea259a-8805-48f1-a7dc-5becb63c6534",
   "metadata": {
    "execution": {
     "iopub.execute_input": "2023-11-06T10:03:46.489293Z",
     "iopub.status.busy": "2023-11-06T10:03:46.488923Z",
     "iopub.status.idle": "2023-11-06T10:03:47.323712Z",
     "shell.execute_reply": "2023-11-06T10:03:47.323171Z",
     "shell.execute_reply.started": "2023-11-06T10:03:46.489269Z"
    },
    "tags": []
   },
   "outputs": [
    {
     "data": {
      "text/plain": [
       "{'state': 200,\n",
       " 'res': {'transactionId': '202311061953af712360424395b81e2db076cf6bce',\n",
       "  'model': 'gpt-3.5-turbo',\n",
       "  'usage': {'promptTokens': 303, 'completionTokens': 21, 'totalTokens': 324},\n",
       "  'functionCall': {'name': 'keyword_analysis',\n",
       "   'arguments': '{\\n  \"title\": \"타이타닉\"\\n}'}}}"
      ]
     },
     "execution_count": 47,
     "metadata": {},
     "output_type": "execute_result"
    }
   ],
   "source": [
    "text = \"타이타닉 보고 싶다.\"\n",
    "anaylze_requested_movie_meta(text)"
   ]
  },
  {
   "cell_type": "code",
   "execution_count": 48,
   "id": "cae52c2b-5202-49a6-b91d-02d0e87dca57",
   "metadata": {
    "execution": {
     "iopub.execute_input": "2023-11-06T10:03:47.325055Z",
     "iopub.status.busy": "2023-11-06T10:03:47.324773Z",
     "iopub.status.idle": "2023-11-06T10:03:48.069161Z",
     "shell.execute_reply": "2023-11-06T10:03:48.068633Z",
     "shell.execute_reply.started": "2023-11-06T10:03:47.325034Z"
    },
    "tags": []
   },
   "outputs": [
    {
     "data": {
      "text/plain": [
       "{'state': 200,\n",
       " 'res': {'transactionId': '2023110619ff5a78801d3448a5bbc7742fa850b5fa',\n",
       "  'model': 'gpt-3.5-turbo',\n",
       "  'usage': {'promptTokens': 318, 'completionTokens': 18, 'totalTokens': 336},\n",
       "  'functionCall': {'name': 'keyword_analysis',\n",
       "   'arguments': '{\\n  \"genre\": \"공포\"\\n}'}}}"
      ]
     },
     "execution_count": 48,
     "metadata": {},
     "output_type": "execute_result"
    }
   ],
   "source": [
    "text = \"나는 요즘 공포 영화가 보고 싶은데 추천해줘.\"\n",
    "anaylze_requested_movie_meta(text)"
   ]
  },
  {
   "cell_type": "code",
   "execution_count": 49,
   "id": "07240ee9-136f-4758-a4aa-2e1061bb4567",
   "metadata": {
    "execution": {
     "iopub.execute_input": "2023-11-06T10:03:48.070202Z",
     "iopub.status.busy": "2023-11-06T10:03:48.069925Z",
     "iopub.status.idle": "2023-11-06T10:03:48.773345Z",
     "shell.execute_reply": "2023-11-06T10:03:48.772812Z",
     "shell.execute_reply.started": "2023-11-06T10:03:48.070181Z"
    },
    "tags": []
   },
   "outputs": [
    {
     "data": {
      "text/plain": [
       "{'state': 200,\n",
       " 'res': {'transactionId': '202311061925ecea1cf4b04c0e8b4c8a00385c0f02',\n",
       "  'model': 'gpt-3.5-turbo',\n",
       "  'usage': {'promptTokens': 306, 'completionTokens': 17, 'totalTokens': 323},\n",
       "  'functionCall': {'name': 'keyword_analysis',\n",
       "   'arguments': '{\\n  \"has_specific_keyword\": \"yes\"\\n}'}}}"
      ]
     },
     "execution_count": 49,
     "metadata": {},
     "output_type": "execute_result"
    }
   ],
   "source": [
    "text = \"재미있는 놀이는 뭘까?\"\n",
    "anaylze_requested_movie_meta(text)"
   ]
  },
  {
   "cell_type": "code",
   "execution_count": 50,
   "id": "1cb7b84e-bea7-4089-a03e-1102168618cc",
   "metadata": {
    "execution": {
     "iopub.execute_input": "2023-11-06T10:04:20.404237Z",
     "iopub.status.busy": "2023-11-06T10:04:20.403866Z",
     "iopub.status.idle": "2023-11-06T10:04:21.131771Z",
     "shell.execute_reply": "2023-11-06T10:04:21.131240Z",
     "shell.execute_reply.started": "2023-11-06T10:04:20.404212Z"
    }
   },
   "outputs": [
    {
     "data": {
      "text/plain": [
       "{'state': 200,\n",
       " 'res': {'transactionId': '2023110619db5e219eebbb4fe4ae1a97bc8facad9f',\n",
       "  'model': 'gpt-3.5-turbo',\n",
       "  'usage': {'promptTokens': 300, 'completionTokens': 25, 'totalTokens': 325},\n",
       "  'functionCall': {'name': 'keyword_analysis',\n",
       "   'arguments': '{\\n  \"has_specific_keyword\": \"yes\",\\n  \"content\": \"잠\"\\n}'}}}"
      ]
     },
     "execution_count": 50,
     "metadata": {},
     "output_type": "execute_result"
    }
   ],
   "source": [
    "text = \"잠과 관련된 영화\"\n",
    "anaylze_requested_movie_meta(text)"
   ]
  }
 ],
 "metadata": {
  "kernelspec": {
   "display_name": "Python 3 (ipykernel)",
   "language": "python",
   "name": "python3"
  },
  "language_info": {
   "codemirror_mode": {
    "name": "ipython",
    "version": 3
   },
   "file_extension": ".py",
   "mimetype": "text/x-python",
   "name": "python",
   "nbconvert_exporter": "python",
   "pygments_lexer": "ipython3",
   "version": "3.8.12"
  }
 },
 "nbformat": 4,
 "nbformat_minor": 5
}
